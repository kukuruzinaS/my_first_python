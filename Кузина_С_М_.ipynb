{
  "nbformat": 4,
  "nbformat_minor": 0,
  "metadata": {
    "colab": {
      "name": "Кузина С.М.",
      "provenance": [],
      "collapsed_sections": [],
      "include_colab_link": true
    },
    "kernelspec": {
      "name": "python3",
      "display_name": "Python 3"
    },
    "language_info": {
      "name": "python"
    }
  },
  "cells": [
    {
      "cell_type": "markdown",
      "metadata": {
        "id": "view-in-github",
        "colab_type": "text"
      },
      "source": [
        "<a href=\"https://colab.research.google.com/github/kukuruzinaS/myfirst/blob/main/%D0%9A%D1%83%D0%B7%D0%B8%D0%BD%D0%B0_%D0%A1_%D0%9C_.ipynb\" target=\"_parent\"><img src=\"https://colab.research.google.com/assets/colab-badge.svg\" alt=\"Open In Colab\"/></a>"
      ]
    },
    {
      "cell_type": "markdown",
      "source": [
        "## **Задача 1. Приветствие**"
      ],
      "metadata": {
        "id": "1KuKdoUrvCW7"
      }
    },
    {
      "cell_type": "markdown",
      "source": [
        "На вход программе подается строка текста – имя человека.\n",
        "\n",
        " Напишите программу, которая выводит на экран приветствие в виде слова «Привет, » (без кавычек), после которого должна стоять запятая и пробел, а затем введенное имя.\n",
        "\n",
        " Для считывания текста используйте команду input(), для печати текста на экране используйте команду print().\n",
        "\n",
        "**Пример:**\n",
        "\n",
        " ввод данных: Екатерина\n",
        "\n",
        " вывод данных: Привет, Екатерина"
      ],
      "metadata": {
        "id": "imPVogXGvT_u"
      }
    },
    {
      "cell_type": "code",
      "source": [
        "print(*['Привет,', input()])"
      ],
      "metadata": {
        "id": "NqyhA4iJ3Vtt",
        "colab": {
          "base_uri": "https://localhost:8080/"
        },
        "outputId": "331a5100-2892-4f48-91be-480840384d5b"
      },
      "execution_count": 3,
      "outputs": [
        {
          "output_type": "stream",
          "name": "stdout",
          "text": [
            "Света\n",
            "Привет, Света\n"
          ]
        }
      ]
    },
    {
      "cell_type": "markdown",
      "source": [
        "## **Задача 2. Право доступа**"
      ],
      "metadata": {
        "id": "8qENl25N1Y0x"
      }
    },
    {
      "cell_type": "markdown",
      "source": [
        "На вход программе подаётся целое число — возраст пользователя. Программа должна вывести текст:\n",
        "*   «Доступ разрешен», если возраст не менее 18;\n",
        "*   «Доступ ограничен», если возраст от 14 до 17 лет (включительно);\n",
        "*   «Доступ запрещен», если возраст менее 14 лет.\n",
        "\n",
        "Для считывания возраста используйте команду input(), не забыв преобразовать тип данных в числовой с помощью int(); для печати текста на экране используйте команду print(). Используйте условные операторы if-elif-else.\n",
        "\n",
        "**Пример:**\n",
        "\n",
        " ввод данных: 17\n",
        "\n",
        " вывод данных: Доступ ограничен"
      ],
      "metadata": {
        "id": "qqqrqrZ34q7y"
      }
    },
    {
      "cell_type": "code",
      "source": [
        "age = int(input())\n",
        "if age >= 18:\n",
        "  print('Доступ разрешен')\n",
        "elif 14 <= age <= 17:\n",
        "  print('Доступ ограничен')\n",
        "else:\n",
        "  print('Доступ запрещен')"
      ],
      "metadata": {
        "id": "rpLC73vi3WeU",
        "colab": {
          "base_uri": "https://localhost:8080/"
        },
        "outputId": "12e61652-15d0-44d8-88e8-342e66bd85b4"
      },
      "execution_count": 6,
      "outputs": [
        {
          "output_type": "stream",
          "name": "stdout",
          "text": [
            "3\n",
            "Доступ запрещен\n"
          ]
        }
      ]
    },
    {
      "cell_type": "markdown",
      "source": [
        "## **Задача 3. Повторение**"
      ],
      "metadata": {
        "id": "37D1iZ-46T9f"
      }
    },
    {
      "cell_type": "markdown",
      "source": [
        "На вход программе подаётся:\n",
        "*   на первой строке - текстовое предложение;\n",
        "*   на второй строке - количество повторений (целое число).\n",
        "\n",
        "Напишите программу, которая выводит предложение нужное количество раз (каждое предложение должно начинаться с новой строки).\n",
        "\n",
        "Для считывания текста и числа повторений используйте команду input(), не забыв преобразовать тип данных в числовой с помощью int() для количества повторений; для печати текста на экране используйте команду print(). Используйте цикл for.\n",
        "\n",
        "**Пример:**\n",
        "\n",
        " ввод данных: \n",
        "*   Век живи - век учись!\n",
        "*   3\n",
        "\n",
        "вывод данных: \n",
        " \n",
        "Век живи - век учись!\n",
        "\n",
        "Век живи - век учись!\n",
        "\n",
        "Век живи - век учись!"
      ],
      "metadata": {
        "id": "kXRx-gtU6p2n"
      }
    },
    {
      "cell_type": "code",
      "source": [
        "txt = input()\n",
        "n = int(input())\n",
        "for i in range(n):\n",
        "  print(txt)"
      ],
      "metadata": {
        "id": "I3MQolV33Xb9",
        "colab": {
          "base_uri": "https://localhost:8080/"
        },
        "outputId": "df05a9ee-b197-4162-dac2-3751939b9a9b"
      },
      "execution_count": 7,
      "outputs": [
        {
          "output_type": "stream",
          "name": "stdout",
          "text": [
            "er\n",
            "4\n",
            "er\n",
            "er\n",
            "er\n",
            "er\n"
          ]
        }
      ]
    },
    {
      "cell_type": "markdown",
      "source": [
        "## **Задача 4. Повторение 2**"
      ],
      "metadata": {
        "id": "hHKa8Y2j81kp"
      }
    },
    {
      "cell_type": "markdown",
      "source": [
        "Реализуйте задачу 3 через цикл while."
      ],
      "metadata": {
        "id": "vd60Ri5h-2d9"
      }
    },
    {
      "cell_type": "code",
      "source": [
        "txt = input()\n",
        "n = int(input())\n",
        "while n != 0:\n",
        "  print(txt)\n",
        "  n -= 1"
      ],
      "metadata": {
        "id": "xN1sosvL3X70",
        "colab": {
          "base_uri": "https://localhost:8080/"
        },
        "outputId": "5e37f88e-a0c7-471e-b2a2-4556b467b0ce"
      },
      "execution_count": 10,
      "outputs": [
        {
          "output_type": "stream",
          "name": "stdout",
          "text": [
            "rt\n",
            "3\n",
            "rt\n",
            "rt\n",
            "rt\n"
          ]
        }
      ]
    },
    {
      "cell_type": "markdown",
      "source": [
        "## **Задача 5. ФИО**"
      ],
      "metadata": {
        "id": "wFjCdbAQBCSg"
      }
    },
    {
      "cell_type": "markdown",
      "source": [
        "Напишите функцию print_fio(name, surname, patronymic), которая принимает три параметра:\n",
        "*   name – имя человека;\n",
        "*   surname – фамилия человека;\n",
        "*   patronymic – отчество человека;\n",
        "\n",
        "а затем выводит на печать ФИО человека (на одной строке, только первые буквы в порядке surname-name-patronymic).\n",
        "\n",
        "Добавьте комментарий перед каждым этапом:\n",
        "\n",
        "*   #объявление функции\n",
        "> def print_fio(name, surname, patronymic)\n",
        "*   #ввод данных\n",
        "> name, surname, patronymic =\n",
        "*   #вызов функции\n",
        "> print_fio(name, surname, patronymic)\n",
        "\n",
        "Для считывания текста используйте команду input(); для печати текста на экране используйте команду print(), добавив параметр sep='' для печати на одной строке. Используйте def для объявления функции.\n",
        "\n",
        "**Пример:**\n",
        "\n",
        " ввод данных: \n",
        "*   Иван\n",
        "*   Сидоров\n",
        "*   Петрович\n",
        "\n",
        "вывод данных: СИП"
      ],
      "metadata": {
        "id": "pkaL_HadBH3z"
      }
    },
    {
      "cell_type": "code",
      "source": [
        "#объявление функции\n",
        "def print_fio(name, surname, patronymic):\n",
        "  print(surname[0], name[0], patronymic[0], sep='')\n",
        "\n",
        "#ввод данных\n",
        "name, surname, patronymic = input('name: '), input('surname: '), input('patronymic: ')\n",
        "\n",
        "#вызов функции\n",
        "print_fio(name, surname, patronymic)\n",
        "\n"
      ],
      "metadata": {
        "id": "OsNHQU6K3Y3E",
        "colab": {
          "base_uri": "https://localhost:8080/"
        },
        "outputId": "75a22ca6-f9a2-45fc-d2b3-9064e51a2b14"
      },
      "execution_count": 15,
      "outputs": [
        {
          "output_type": "stream",
          "name": "stdout",
          "text": [
            "name: Светлана\n",
            "surname: Кузина\n",
            "patronymic: Михайловна\n",
            "КСМ\n"
          ]
        }
      ]
    },
    {
      "cell_type": "markdown",
      "source": [
        "## **Задача 6. Первая таблица**"
      ],
      "metadata": {
        "id": "cCeC21NMFM_w"
      }
    },
    {
      "cell_type": "markdown",
      "source": [
        "Импортируйте библиотеку pandas с именем pd. Скопируйте словарь, у которого в качестве ключей - столбцы таблицы, а в качестве значений в списках - данные таблицы:\n",
        "> data = {'col 1': ['Я', 'Python', 'Буду'], 'col 2': ['люблю', 'мой', 'стараться'], 'col 3': ['анализ', 'лучший', 'хорошо'], 'col 4': ['данных', 'друг', 'учиться']}\n",
        "\n",
        "Создайте таблицу, скопировав следующий код:\n",
        "> df = pd.DataFrame(data)\n",
        "\n",
        "где df - имя таблицы, pd.DataFrame() - конструктор таблицы, data - словарь.\n",
        "\n",
        "Выведите таблицу через print() либо просто ее вызовом без print().\n",
        "\n",
        "\n"
      ],
      "metadata": {
        "id": "BFyYI5dtFUmf"
      }
    },
    {
      "cell_type": "code",
      "source": [
        "# импорт библиотеки Pandas\n",
        "import pandas\n",
        "\n",
        "# создание словаря\n",
        "data = {\n",
        "    'col 1': ['Я', 'Python', 'Буду'], \n",
        "    'col 2': ['люблю', 'мой', 'стараться'], \n",
        "    'col 3': ['анализ', 'лучший', 'хорошо'], \n",
        "    'col 4': ['данных', 'друг', 'учиться']\n",
        "    }\n",
        "\n",
        "# создание таблицы/датафрейма\n",
        "df = pandas.DataFrame(data)\n",
        "\n",
        "# вывод таблицы принтом\n",
        "# print (df)\n",
        "\n",
        "# вызов таблицы без принта\n",
        "df\n"
      ],
      "metadata": {
        "id": "NcORHQCE3ZSU",
        "colab": {
          "base_uri": "https://localhost:8080/",
          "height": 172
        },
        "outputId": "523061b6-6963-4a4d-9941-e2f95269ad78"
      },
      "execution_count": 18,
      "outputs": [
        {
          "output_type": "execute_result",
          "data": {
            "text/plain": [
              "    col 1      col 2   col 3    col 4\n",
              "0       Я      люблю  анализ   данных\n",
              "1  Python        мой  лучший     друг\n",
              "2    Буду  стараться  хорошо  учиться"
            ],
            "text/html": [
              "\n",
              "  <div id=\"df-2c4fffea-d852-408a-83ec-b66c11459a8d\">\n",
              "    <div class=\"colab-df-container\">\n",
              "      <div>\n",
              "<style scoped>\n",
              "    .dataframe tbody tr th:only-of-type {\n",
              "        vertical-align: middle;\n",
              "    }\n",
              "\n",
              "    .dataframe tbody tr th {\n",
              "        vertical-align: top;\n",
              "    }\n",
              "\n",
              "    .dataframe thead th {\n",
              "        text-align: right;\n",
              "    }\n",
              "</style>\n",
              "<table border=\"1\" class=\"dataframe\">\n",
              "  <thead>\n",
              "    <tr style=\"text-align: right;\">\n",
              "      <th></th>\n",
              "      <th>col 1</th>\n",
              "      <th>col 2</th>\n",
              "      <th>col 3</th>\n",
              "      <th>col 4</th>\n",
              "    </tr>\n",
              "  </thead>\n",
              "  <tbody>\n",
              "    <tr>\n",
              "      <th>0</th>\n",
              "      <td>Я</td>\n",
              "      <td>люблю</td>\n",
              "      <td>анализ</td>\n",
              "      <td>данных</td>\n",
              "    </tr>\n",
              "    <tr>\n",
              "      <th>1</th>\n",
              "      <td>Python</td>\n",
              "      <td>мой</td>\n",
              "      <td>лучший</td>\n",
              "      <td>друг</td>\n",
              "    </tr>\n",
              "    <tr>\n",
              "      <th>2</th>\n",
              "      <td>Буду</td>\n",
              "      <td>стараться</td>\n",
              "      <td>хорошо</td>\n",
              "      <td>учиться</td>\n",
              "    </tr>\n",
              "  </tbody>\n",
              "</table>\n",
              "</div>\n",
              "      <button class=\"colab-df-convert\" onclick=\"convertToInteractive('df-2c4fffea-d852-408a-83ec-b66c11459a8d')\"\n",
              "              title=\"Convert this dataframe to an interactive table.\"\n",
              "              style=\"display:none;\">\n",
              "        \n",
              "  <svg xmlns=\"http://www.w3.org/2000/svg\" height=\"24px\"viewBox=\"0 0 24 24\"\n",
              "       width=\"24px\">\n",
              "    <path d=\"M0 0h24v24H0V0z\" fill=\"none\"/>\n",
              "    <path d=\"M18.56 5.44l.94 2.06.94-2.06 2.06-.94-2.06-.94-.94-2.06-.94 2.06-2.06.94zm-11 1L8.5 8.5l.94-2.06 2.06-.94-2.06-.94L8.5 2.5l-.94 2.06-2.06.94zm10 10l.94 2.06.94-2.06 2.06-.94-2.06-.94-.94-2.06-.94 2.06-2.06.94z\"/><path d=\"M17.41 7.96l-1.37-1.37c-.4-.4-.92-.59-1.43-.59-.52 0-1.04.2-1.43.59L10.3 9.45l-7.72 7.72c-.78.78-.78 2.05 0 2.83L4 21.41c.39.39.9.59 1.41.59.51 0 1.02-.2 1.41-.59l7.78-7.78 2.81-2.81c.8-.78.8-2.07 0-2.86zM5.41 20L4 18.59l7.72-7.72 1.47 1.35L5.41 20z\"/>\n",
              "  </svg>\n",
              "      </button>\n",
              "      \n",
              "  <style>\n",
              "    .colab-df-container {\n",
              "      display:flex;\n",
              "      flex-wrap:wrap;\n",
              "      gap: 12px;\n",
              "    }\n",
              "\n",
              "    .colab-df-convert {\n",
              "      background-color: #E8F0FE;\n",
              "      border: none;\n",
              "      border-radius: 50%;\n",
              "      cursor: pointer;\n",
              "      display: none;\n",
              "      fill: #1967D2;\n",
              "      height: 32px;\n",
              "      padding: 0 0 0 0;\n",
              "      width: 32px;\n",
              "    }\n",
              "\n",
              "    .colab-df-convert:hover {\n",
              "      background-color: #E2EBFA;\n",
              "      box-shadow: 0px 1px 2px rgba(60, 64, 67, 0.3), 0px 1px 3px 1px rgba(60, 64, 67, 0.15);\n",
              "      fill: #174EA6;\n",
              "    }\n",
              "\n",
              "    [theme=dark] .colab-df-convert {\n",
              "      background-color: #3B4455;\n",
              "      fill: #D2E3FC;\n",
              "    }\n",
              "\n",
              "    [theme=dark] .colab-df-convert:hover {\n",
              "      background-color: #434B5C;\n",
              "      box-shadow: 0px 1px 3px 1px rgba(0, 0, 0, 0.15);\n",
              "      filter: drop-shadow(0px 1px 2px rgba(0, 0, 0, 0.3));\n",
              "      fill: #FFFFFF;\n",
              "    }\n",
              "  </style>\n",
              "\n",
              "      <script>\n",
              "        const buttonEl =\n",
              "          document.querySelector('#df-2c4fffea-d852-408a-83ec-b66c11459a8d button.colab-df-convert');\n",
              "        buttonEl.style.display =\n",
              "          google.colab.kernel.accessAllowed ? 'block' : 'none';\n",
              "\n",
              "        async function convertToInteractive(key) {\n",
              "          const element = document.querySelector('#df-2c4fffea-d852-408a-83ec-b66c11459a8d');\n",
              "          const dataTable =\n",
              "            await google.colab.kernel.invokeFunction('convertToInteractive',\n",
              "                                                     [key], {});\n",
              "          if (!dataTable) return;\n",
              "\n",
              "          const docLinkHtml = 'Like what you see? Visit the ' +\n",
              "            '<a target=\"_blank\" href=https://colab.research.google.com/notebooks/data_table.ipynb>data table notebook</a>'\n",
              "            + ' to learn more about interactive tables.';\n",
              "          element.innerHTML = '';\n",
              "          dataTable['output_type'] = 'display_data';\n",
              "          await google.colab.output.renderOutput(dataTable, element);\n",
              "          const docLink = document.createElement('div');\n",
              "          docLink.innerHTML = docLinkHtml;\n",
              "          element.appendChild(docLink);\n",
              "        }\n",
              "      </script>\n",
              "    </div>\n",
              "  </div>\n",
              "  "
            ]
          },
          "metadata": {},
          "execution_count": 18
        }
      ]
    }
  ]
}